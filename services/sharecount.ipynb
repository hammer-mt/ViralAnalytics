{
  "nbformat": 4,
  "nbformat_minor": 0,
  "metadata": {
    "colab": {
      "name": "sharecount",
      "provenance": []
    },
    "kernelspec": {
      "name": "python3",
      "display_name": "Python 3"
    }
  },
  "cells": [
    {
      "cell_type": "code",
      "metadata": {
        "id": "6akjrRUMawH7",
        "colab_type": "code",
        "colab": {
          "base_uri": "https://localhost:8080/",
          "height": 680
        },
        "outputId": "7e59f047-fbaf-44b6-edd8-879558bdd06d"
      },
      "source": [
        "%pip install --upgrade firebase-admin"
      ],
      "execution_count": 1,
      "outputs": [
        {
          "output_type": "stream",
          "text": [
            "Collecting firebase-admin\n",
            "\u001b[?25l  Downloading https://files.pythonhosted.org/packages/ed/e3/090a7d2b72815d090e780a07818e4d74e98a40160151de5bec3207ed0c7d/firebase_admin-4.3.0-py3-none-any.whl (111kB)\n",
            "\r\u001b[K     |███                             | 10kB 22.1MB/s eta 0:00:01\r\u001b[K     |█████▉                          | 20kB 5.9MB/s eta 0:00:01\r\u001b[K     |████████▉                       | 30kB 7.1MB/s eta 0:00:01\r\u001b[K     |███████████▊                    | 40kB 7.0MB/s eta 0:00:01\r\u001b[K     |██████████████▊                 | 51kB 4.3MB/s eta 0:00:01\r\u001b[K     |█████████████████▋              | 61kB 4.9MB/s eta 0:00:01\r\u001b[K     |████████████████████▋           | 71kB 5.5MB/s eta 0:00:01\r\u001b[K     |███████████████████████▌        | 81kB 5.9MB/s eta 0:00:01\r\u001b[K     |██████████████████████████▍     | 92kB 6.5MB/s eta 0:00:01\r\u001b[K     |█████████████████████████████▍  | 102kB 6.9MB/s eta 0:00:01\r\u001b[K     |████████████████████████████████| 112kB 6.9MB/s \n",
            "\u001b[?25hRequirement already satisfied, skipping upgrade: cachecontrol>=0.12.6 in /usr/local/lib/python3.6/dist-packages (from firebase-admin) (0.12.6)\n",
            "Requirement already satisfied, skipping upgrade: google-api-python-client>=1.7.8 in /usr/local/lib/python3.6/dist-packages (from firebase-admin) (1.7.12)\n",
            "Requirement already satisfied, skipping upgrade: google-api-core[grpc]<2.0.0dev,>=1.14.0; platform_python_implementation != \"PyPy\" in /usr/local/lib/python3.6/dist-packages (from firebase-admin) (1.16.0)\n",
            "Requirement already satisfied, skipping upgrade: google-cloud-firestore>=1.4.0; platform_python_implementation != \"PyPy\" in /usr/local/lib/python3.6/dist-packages (from firebase-admin) (1.7.0)\n",
            "Requirement already satisfied, skipping upgrade: google-cloud-storage>=1.18.0 in /usr/local/lib/python3.6/dist-packages (from firebase-admin) (1.18.1)\n",
            "Requirement already satisfied, skipping upgrade: msgpack>=0.5.2 in /usr/local/lib/python3.6/dist-packages (from cachecontrol>=0.12.6->firebase-admin) (1.0.0)\n",
            "Requirement already satisfied, skipping upgrade: requests in /usr/local/lib/python3.6/dist-packages (from cachecontrol>=0.12.6->firebase-admin) (2.23.0)\n",
            "Requirement already satisfied, skipping upgrade: httplib2<1dev,>=0.17.0 in /usr/local/lib/python3.6/dist-packages (from google-api-python-client>=1.7.8->firebase-admin) (0.17.4)\n",
            "Requirement already satisfied, skipping upgrade: google-auth-httplib2>=0.0.3 in /usr/local/lib/python3.6/dist-packages (from google-api-python-client>=1.7.8->firebase-admin) (0.0.3)\n",
            "Requirement already satisfied, skipping upgrade: google-auth>=1.4.1 in /usr/local/lib/python3.6/dist-packages (from google-api-python-client>=1.7.8->firebase-admin) (1.17.2)\n",
            "Requirement already satisfied, skipping upgrade: uritemplate<4dev,>=3.0.0 in /usr/local/lib/python3.6/dist-packages (from google-api-python-client>=1.7.8->firebase-admin) (3.0.1)\n",
            "Requirement already satisfied, skipping upgrade: six<2dev,>=1.6.1 in /usr/local/lib/python3.6/dist-packages (from google-api-python-client>=1.7.8->firebase-admin) (1.12.0)\n",
            "Requirement already satisfied, skipping upgrade: protobuf>=3.4.0 in /usr/local/lib/python3.6/dist-packages (from google-api-core[grpc]<2.0.0dev,>=1.14.0; platform_python_implementation != \"PyPy\"->firebase-admin) (3.10.0)\n",
            "Requirement already satisfied, skipping upgrade: pytz in /usr/local/lib/python3.6/dist-packages (from google-api-core[grpc]<2.0.0dev,>=1.14.0; platform_python_implementation != \"PyPy\"->firebase-admin) (2018.9)\n",
            "Requirement already satisfied, skipping upgrade: googleapis-common-protos<2.0dev,>=1.6.0 in /usr/local/lib/python3.6/dist-packages (from google-api-core[grpc]<2.0.0dev,>=1.14.0; platform_python_implementation != \"PyPy\"->firebase-admin) (1.52.0)\n",
            "Requirement already satisfied, skipping upgrade: setuptools>=34.0.0 in /usr/local/lib/python3.6/dist-packages (from google-api-core[grpc]<2.0.0dev,>=1.14.0; platform_python_implementation != \"PyPy\"->firebase-admin) (47.3.1)\n",
            "Requirement already satisfied, skipping upgrade: grpcio<2.0dev,>=1.8.2; extra == \"grpc\" in /usr/local/lib/python3.6/dist-packages (from google-api-core[grpc]<2.0.0dev,>=1.14.0; platform_python_implementation != \"PyPy\"->firebase-admin) (1.29.0)\n",
            "Requirement already satisfied, skipping upgrade: google-cloud-core<2.0dev,>=1.0.3 in /usr/local/lib/python3.6/dist-packages (from google-cloud-firestore>=1.4.0; platform_python_implementation != \"PyPy\"->firebase-admin) (1.0.3)\n",
            "Requirement already satisfied, skipping upgrade: google-resumable-media<0.5.0dev,>=0.3.1 in /usr/local/lib/python3.6/dist-packages (from google-cloud-storage>=1.18.0->firebase-admin) (0.4.1)\n",
            "Requirement already satisfied, skipping upgrade: chardet<4,>=3.0.2 in /usr/local/lib/python3.6/dist-packages (from requests->cachecontrol>=0.12.6->firebase-admin) (3.0.4)\n",
            "Requirement already satisfied, skipping upgrade: urllib3!=1.25.0,!=1.25.1,<1.26,>=1.21.1 in /usr/local/lib/python3.6/dist-packages (from requests->cachecontrol>=0.12.6->firebase-admin) (1.24.3)\n",
            "Requirement already satisfied, skipping upgrade: certifi>=2017.4.17 in /usr/local/lib/python3.6/dist-packages (from requests->cachecontrol>=0.12.6->firebase-admin) (2020.4.5.2)\n",
            "Requirement already satisfied, skipping upgrade: idna<3,>=2.5 in /usr/local/lib/python3.6/dist-packages (from requests->cachecontrol>=0.12.6->firebase-admin) (2.9)\n",
            "Requirement already satisfied, skipping upgrade: pyasn1-modules>=0.2.1 in /usr/local/lib/python3.6/dist-packages (from google-auth>=1.4.1->google-api-python-client>=1.7.8->firebase-admin) (0.2.8)\n",
            "Requirement already satisfied, skipping upgrade: rsa<5,>=3.1.4; python_version >= \"3\" in /usr/local/lib/python3.6/dist-packages (from google-auth>=1.4.1->google-api-python-client>=1.7.8->firebase-admin) (4.6)\n",
            "Requirement already satisfied, skipping upgrade: cachetools<5.0,>=2.0.0 in /usr/local/lib/python3.6/dist-packages (from google-auth>=1.4.1->google-api-python-client>=1.7.8->firebase-admin) (4.1.0)\n",
            "Requirement already satisfied, skipping upgrade: pyasn1<0.5.0,>=0.4.6 in /usr/local/lib/python3.6/dist-packages (from pyasn1-modules>=0.2.1->google-auth>=1.4.1->google-api-python-client>=1.7.8->firebase-admin) (0.4.8)\n",
            "Installing collected packages: firebase-admin\n",
            "  Found existing installation: firebase-admin 4.1.0\n",
            "    Uninstalling firebase-admin-4.1.0:\n",
            "      Successfully uninstalled firebase-admin-4.1.0\n",
            "Successfully installed firebase-admin-4.3.0\n"
          ],
          "name": "stdout"
        }
      ]
    },
    {
      "cell_type": "code",
      "metadata": {
        "id": "qyIxlWIibPEN",
        "colab_type": "code",
        "colab": {}
      },
      "source": [
        "import firebase_admin\n",
        "from firebase_admin import credentials\n",
        "from firebase_admin import firestore\n",
        "\n",
        "# Use a service account\n",
        "cred = credentials.Certificate('colab-service-account.json')\n",
        "firebase_admin.initialize_app(cred)\n",
        "\n",
        "db = firestore.client()"
      ],
      "execution_count": 3,
      "outputs": []
    },
    {
      "cell_type": "code",
      "metadata": {
        "id": "nRCYPsROdbWJ",
        "colab_type": "code",
        "colab": {
          "base_uri": "https://localhost:8080/",
          "height": 533
        },
        "outputId": "0e24b490-f0e5-4744-dbb0-c51a42aa39d6"
      },
      "source": [
        "posts_ref = db.collection(u'posts')\n",
        "\n",
        "query = posts_ref.where(u'property', u'==', u'lad-000000003-001'\n",
        "    ).where(u'refHash', u'==', u'#e0yxeeaf596p8p1tvskqr'\n",
        "    ).limit(100)\n",
        "\n",
        "results = query.stream()\n",
        "records = {}\n",
        "for doc in results:\n",
        "    print(f'{doc.id} => {doc.to_dict()}')\n",
        "    records[doc.id] = doc.to_dict()\n",
        "\n",
        "print(len(records))"
      ],
      "execution_count": 4,
      "outputs": [
        {
          "output_type": "stream",
          "text": [
            "04v0QsvdM0RZbuiFEqgk => {'doNotTrack': None, 'refHash': '#e0yxeeaf596p8p1tvskqr', 'width': 1440, 'timeZoneOffset': -60, 'userHash': 'tn0kwtwq9z7y9a2ld75ut', 'referrer': 'https://ladder.io/', 'cookieEnabled': True, 'userAgent': 'Mozilla/5.0 (Macintosh; Intel Mac OS X 10_13_6) AppleWebKit/537.36 (KHTML, like Gecko) Chrome/83.0.4103.97 Safari/537.36', 'href': 'https://try.ladder.io/?utm_expid=.OShV8i84QBebyz05Qhs27g.1&utm_referrer=#tn0kwtwq9z7y9a2ld75ut', 'locale': 'en-US', 'colorDepth': 24, 'height': 900, 'property': 'lad-000000003-001', 'title': 'Award-Winning Marketing Agency: Growth, Scale, & ROI - Ladder', 'timeZone': 'Europe/London'}\n",
            "0OgThOnGGrPRoVGWVE0e => {'href': 'https://ladder.io/playbook?_ga=2.254068552.1128485427.1592602400-2128290037.1590599767#c56jba69bvac4iebsbrhje', 'locale': 'en-US', 'colorDepth': 24, 'property': 'lad-000000003-001', 'height': 1050, 'title': 'Ladder.io - Playbook', 'timeZone': 'America/Los_Angeles', 'doNotTrack': '1', 'refHash': '#e0yxeeaf596p8p1tvskqr', 'width': 1680, 'timeZoneOffset': 420, 'userHash': 'c56jba69bvac4iebsbrhje', 'referrer': 'https://blog.ladder.io/engineering-virality/', 'cookieEnabled': True, 'userAgent': 'Mozilla/5.0 (Macintosh; Intel Mac OS X 10_14_6) AppleWebKit/537.36 (KHTML, like Gecko) Chrome/83.0.4103.97 Safari/537.36'}\n",
            "1dCQJ5PeadDpc6lA8YCt => {'cookieEnabled': True, 'userAgent': 'Mozilla/5.0 (Macintosh; Intel Mac OS X 10_13_6) AppleWebKit/537.36 (KHTML, like Gecko) Chrome/83.0.4103.61 Safari/537.36', 'href': 'https://try.ladder.io/?utm_expid=.OShV8i84QBebyz05Qhs27g.1&utm_referrer=#tn0kwtwq9z7y9a2ld75ut', 'locale': 'en-US', 'colorDepth': 24, 'property': 'lad-000000003-001', 'height': 900, 'title': 'Award-Winning Marketing Agency: Growth, Scale, & ROI - Ladder', 'timeZone': 'Europe/London', 'doNotTrack': None, 'refHash': '#e0yxeeaf596p8p1tvskqr', 'width': 1440, 'timeZoneOffset': -60, 'userHash': 'tn0kwtwq9z7y9a2ld75ut', 'referrer': 'https://ladder.io/'}\n",
            "20wiEWnnJmf0lmtmpyKe => {'doNotTrack': None, 'refHash': '#e0yxeeaf596p8p1tvskqr', 'width': 2560, 'timeZoneOffset': 420, 'userHash': 'phlvydqo6uqr5mc7iov5ld', 'referrer': 'https://blog.ladder.io/engineering-virality/', 'cookieEnabled': True, 'userAgent': 'Mozilla/5.0 (Macintosh; Intel Mac OS X 10_14_6) AppleWebKit/537.36 (KHTML, like Gecko) Chrome/83.0.4103.97 Safari/537.36', 'href': 'https://ladder.io/playbook?_ga=2.110047552.419894977.1592592948-601474115.1586273866#phlvydqo6uqr5mc7iov5ld', 'locale': 'en-US', 'colorDepth': 24, 'height': 1080, 'property': 'lad-000000003-001', 'title': 'Ladder.io - Playbook', 'timeZone': 'America/Los_Angeles'}\n",
            "8cmIiIVRC4BVRScl95VG => {'referrer': '', 'cookieEnabled': True, 'userAgent': 'Mozilla/5.0 (Macintosh; Intel Mac OS X 10_13_6) AppleWebKit/537.36 (KHTML, like Gecko) Chrome/83.0.4103.97 Safari/537.36', 'href': 'https://ladder.io/#ypyptex8mdlxbgmbpk7rz', 'locale': 'en-US', 'colorDepth': 24, 'height': 900, 'property': 'lad-000000003-001', 'title': 'Ladder.io - Growth without the guesswork.', 'timeZone': 'Europe/London', 'doNotTrack': None, 'refHash': '#e0yxeeaf596p8p1tvskqr', 'width': 1440, 'timeZoneOffset': -60, 'userHash': 'ypyptex8mdlxbgmbpk7rz'}\n",
            "Ci3b7qYS6hc9HGjVNyH5 => {'doNotTrack': None, 'refHash': '#e0yxeeaf596p8p1tvskqr', 'width': 1440, 'timeZoneOffset': -60, 'userHash': 'tn0kwtwq9z7y9a2ld75ut', 'referrer': 'https://ladder.io/', 'cookieEnabled': True, 'userAgent': 'Mozilla/5.0 (Macintosh; Intel Mac OS X 10_13_6) AppleWebKit/537.36 (KHTML, like Gecko) Chrome/81.0.4044.138 Safari/537.36', 'href': 'https://try.ladder.io/?utm_expid=.OShV8i84QBebyz05Qhs27g.1&utm_referrer=#tn0kwtwq9z7y9a2ld75ut', 'locale': 'en-US', 'colorDepth': 24, 'property': 'lad-000000003-001', 'height': 900, 'title': 'Award-Winning Marketing Agency: Growth, Scale, & ROI - Ladder', 'timeZone': 'Europe/London'}\n",
            "DL515DPuKLmDwqDweb4J => {'timeZoneOffset': -60, 'userHash': 'tn0kwtwq9z7y9a2ld75ut', 'referrer': 'https://ladder.io/', 'cookieEnabled': True, 'userAgent': 'Mozilla/5.0 (Macintosh; Intel Mac OS X 10_13_6) AppleWebKit/537.36 (KHTML, like Gecko) Chrome/81.0.4044.138 Safari/537.36', 'href': 'https://try.ladder.io/?utm_expid=.OShV8i84QBebyz05Qhs27g.1&utm_referrer=#tn0kwtwq9z7y9a2ld75ut', 'locale': 'en-US', 'colorDepth': 24, 'height': 1080, 'property': 'lad-000000003-001', 'title': 'Award-Winning Marketing Agency: Growth, Scale, & ROI - Ladder', 'timeZone': 'Europe/London', 'doNotTrack': None, 'refHash': '#e0yxeeaf596p8p1tvskqr', 'width': 1920}\n",
            "DvUrSxaeTtJRxHgFSyOK => {'width': 1440, 'timeZoneOffset': -60, 'userHash': 'is9vdzf1ylfvwveyrko3k', 'referrer': '', 'cookieEnabled': True, 'userAgent': 'Mozilla/5.0 (Macintosh; Intel Mac OS X 10_13_6) AppleWebKit/537.36 (KHTML, like Gecko) Chrome/83.0.4103.61 Safari/537.36', 'href': 'https://ladder.io/#is9vdzf1ylfvwveyrko3k', 'colorDepth': 24, 'locale': 'en-US', 'property': 'lad-000000003-001', 'height': 900, 'title': 'Ladder.io - Growth without the guesswork.', 'timeZone': 'Europe/London', 'doNotTrack': None, 'refHash': '#e0yxeeaf596p8p1tvskqr'}\n",
            "F6PZcFLhOMDMPNK6IeEC => {'cookieEnabled': True, 'userAgent': 'Mozilla/5.0 (Linux; Android 8.1.0; SM-N960U) AppleWebKit/537.36 (KHTML, like Gecko) Chrome/83.0.4103.106 Mobile Safari/537.36', 'href': 'https://ladder.io/playbook?_ga=2.85780826.25663461.1592619775-548459060.1588984172#b83zqzl0caaqrslx1s6uxa', 'colorDepth': 24, 'locale': 'en-US', 'property': 'lad-000000003-001', 'height': 846, 'title': 'Ladder.io - Playbook', 'timeZone': 'America/New_York', 'doNotTrack': None, 'refHash': '#e0yxeeaf596p8p1tvskqr', 'width': 412, 'timeZoneOffset': 240, 'userHash': 'b83zqzl0caaqrslx1s6uxa', 'referrer': 'https://blog.ladder.io/engineering-virality/?utm_source=Ladder+Newsletter&utm_campaign=f4ffaa795b-engineering-virality&utm_medium=email&utm_term=0_9d86f56367-f4ffaa795b-535308503'}\n",
            "HtU4J3QspFw7l1tlbok5 => {'referrer': 'https://ladder.io/', 'cookieEnabled': True, 'userAgent': 'Mozilla/5.0 (Macintosh; Intel Mac OS X 10_13_6) AppleWebKit/537.36 (KHTML, like Gecko) Chrome/81.0.4044.138 Safari/537.36', 'href': 'https://try.ladder.io/?utm_expid=.OShV8i84QBebyz05Qhs27g.1&utm_referrer=#tn0kwtwq9z7y9a2ld75ut', 'locale': 'en-US', 'colorDepth': 24, 'property': 'lad-000000003-001', 'height': 1080, 'title': 'Award-Winning Marketing Agency: Growth, Scale, & ROI - Ladder', 'timeZone': 'Europe/London', 'doNotTrack': None, 'refHash': '#e0yxeeaf596p8p1tvskqr', 'width': 1920, 'timeZoneOffset': -60, 'userHash': 'tn0kwtwq9z7y9a2ld75ut'}\n",
            "JOBaY0PE9Z07xLC8a2WF => {'doNotTrack': None, 'refHash': '#e0yxeeaf596p8p1tvskqr', 'width': 1440, 'timeZoneOffset': -60, 'userHash': 'e0yxeeaf596p8p1tvskqr', 'referrer': 'https://ladder.io/playbook', 'cookieEnabled': True, 'userAgent': 'Mozilla/5.0 (Macintosh; Intel Mac OS X 10_13_6) AppleWebKit/537.36 (KHTML, like Gecko) Chrome/83.0.4103.61 Safari/537.36', 'href': 'https://ladder.io/playbook#e0yxeeaf596p8p1tvskqr', 'locale': 'en-US', 'colorDepth': 24, 'height': 900, 'property': 'lad-000000003-001', 'title': 'Ladder.io - Playbook', 'timeZone': 'Europe/London'}\n",
            "OWo1RLHmsiS1ayHAP5py => {'cookieEnabled': True, 'userAgent': 'Mozilla/5.0 (Windows NT 10.0; Win64; x64) AppleWebKit/537.36 (KHTML, like Gecko) Chrome/83.0.4103.106 Safari/537.36', 'href': 'https://ladder.io/playbook?&_ga=2.203409298.2000985403.1592577394-38982473.1591261408#x4zuknqixcsuroldu731r', 'locale': 'pl', 'colorDepth': 24, 'property': 'lad-000000003-001', 'height': 1200, 'title': 'Ladder.io - Playbook', 'timeZone': 'Europe/Warsaw', 'doNotTrack': None, 'refHash': '#e0yxeeaf596p8p1tvskqr', 'width': 1920, 'timeZoneOffset': -120, 'userHash': 'x4zuknqixcsuroldu731r', 'referrer': 'https://blog.ladder.io/engineering-virality/?utm_source=Ladder%20Newsletter&utm_campaign=c728c494f2-engineering-virality&utm_medium=email&utm_term=0_9d86f56367-c728c494f2-535322972'}\n",
            "T3G6emi6rVnzGltF31Mq => {'userAgent': 'Mozilla/5.0 (Macintosh; Intel Mac OS X 10_13_6) AppleWebKit/537.36 (KHTML, like Gecko) Chrome/81.0.4044.138 Safari/537.36', 'href': 'https://ladder.io/#8zzhtq3p614m2hj8k5rw6d', 'locale': 'en-US', 'colorDepth': 24, 'property': 'lad-000000003-001', 'height': 1080, 'title': 'Ladder.io - Growth without the guesswork.', 'timeZone': 'Europe/London', 'doNotTrack': None, 'refHash': '#e0yxeeaf596p8p1tvskqr', 'width': 1920, 'timeZoneOffset': -60, 'userHash': '8zzhtq3p614m2hj8k5rw6d', 'referrer': '', 'cookieEnabled': True}\n",
            "WLzicDvAvQEfqvh1j8GT => {'referrer': 'https://blog.ladder.io/engineering-virality/?utm_source=Ladder+Newsletter&utm_campaign=60012527f8-engineering-virality&utm_medium=email&utm_term=0_9d86f56367-60012527f8-535305699', 'cookieEnabled': True, 'userAgent': 'Mozilla/5.0 (iPhone; CPU iPhone OS 13_5_1 like Mac OS X) AppleWebKit/605.1.15 (KHTML, like Gecko) Version/13.1.1 Mobile/15E148 Safari/604.1', 'href': 'https://ladder.io/playbook?_ga=2.58405929.209728460.1592603007-1900863503.1592603007#2kin7jvz9o83on4i5pz9jg', 'locale': 'en', 'colorDepth': 32, 'property': 'lad-000000003-001', 'height': 667, 'title': 'Ladder.io - Playbook', 'timeZone': 'America/New_York', 'doNotTrack': '', 'refHash': '#e0yxeeaf596p8p1tvskqr', 'width': 375, 'timeZoneOffset': 240, 'userHash': '2kin7jvz9o83on4i5pz9jg'}\n",
            "f1wlj0DdX6GqyN0tL5Kh => {'refHash': '#e0yxeeaf596p8p1tvskqr', 'width': 1440, 'timeZoneOffset': -60, 'userHash': 'tn0kwtwq9z7y9a2ld75ut', 'referrer': 'https://ladder.io/', 'cookieEnabled': True, 'userAgent': 'Mozilla/5.0 (Macintosh; Intel Mac OS X 10_13_6) AppleWebKit/537.36 (KHTML, like Gecko) Chrome/83.0.4103.97 Safari/537.36', 'href': 'https://try.ladder.io/?utm_expid=.OShV8i84QBebyz05Qhs27g.1&utm_referrer=#tn0kwtwq9z7y9a2ld75ut', 'locale': 'en-US', 'colorDepth': 24, 'height': 900, 'property': 'lad-000000003-001', 'title': 'Award-Winning Marketing Agency: Growth, Scale, & ROI - Ladder', 'timeZone': 'Europe/London', 'doNotTrack': None}\n",
            "h1OQzw6RzWqyWGRTN2K7 => {'doNotTrack': '', 'refHash': '#e0yxeeaf596p8p1tvskqr', 'width': 1024, 'timeZoneOffset': 360, 'userHash': '764lyb72e69mmo0a7bvimd', 'referrer': 'https://blog.ladder.io/engineering-virality/?utm_source=Ladder+Newsletter&utm_campaign=c728c494f2-engineering-virality&utm_medium=email&utm_term=0_9d86f56367-c728c494f2-&utm_source=Ladder+Newsletter&utm_campaign=f4ffaa795b-engineering-virality&utm_medium=email&utm_term=0_9d86f56367-f4ffaa795b-535307255', 'cookieEnabled': True, 'userAgent': 'Mozilla/5.0 (Macintosh; Intel Mac OS X 10_15_4) AppleWebKit/605.1.15 (KHTML, like Gecko) Version/13.1.1 Safari/605.1.15', 'href': 'https://ladder.io/playbook?_ga=2.81810134.133791084.1592618961-1230641959.1592618961#764lyb72e69mmo0a7bvimd', 'colorDepth': 32, 'locale': 'en', 'height': 1366, 'property': 'lad-000000003-001', 'title': 'Ladder.io - Playbook', 'timeZone': 'America/Denver'}\n",
            "iwWw3FULDU7jxkmjPlOQ => {'userAgent': 'Mozilla/5.0 (Macintosh; Intel Mac OS X 10_13_6) AppleWebKit/537.36 (KHTML, like Gecko) Chrome/81.0.4044.138 Safari/537.36', 'href': 'https://try.ladder.io/?utm_expid=.OShV8i84QBebyz05Qhs27g.1&utm_referrer=#tn0kwtwq9z7y9a2ld75ut', 'colorDepth': 24, 'locale': 'en-US', 'height': 900, 'property': 'lad-000000003-001', 'title': 'Award-Winning Marketing Agency: Growth, Scale, & ROI - Ladder', 'timeZone': 'Europe/London', 'doNotTrack': None, 'refHash': '#e0yxeeaf596p8p1tvskqr', 'width': 1440, 'timeZoneOffset': -60, 'userHash': 'tn0kwtwq9z7y9a2ld75ut', 'referrer': 'https://ladder.io/', 'cookieEnabled': True}\n",
            "lcRox2VsDwkOZkuprdNu => {'doNotTrack': None, 'refHash': '#e0yxeeaf596p8p1tvskqr', 'width': 1920, 'timeZoneOffset': -60, 'userHash': 'tn0kwtwq9z7y9a2ld75ut', 'referrer': 'https://ladder.io/', 'cookieEnabled': True, 'userAgent': 'Mozilla/5.0 (Macintosh; Intel Mac OS X 10_13_6) AppleWebKit/537.36 (KHTML, like Gecko) Chrome/81.0.4044.138 Safari/537.36', 'href': 'https://try.ladder.io/?utm_expid=.OShV8i84QBebyz05Qhs27g.1&utm_referrer=#tn0kwtwq9z7y9a2ld75ut', 'locale': 'en-US', 'colorDepth': 24, 'height': 1080, 'property': 'lad-000000003-001', 'title': 'Award-Winning Marketing Agency: Growth, Scale, & ROI - Ladder', 'timeZone': 'Europe/London'}\n",
            "malSi4oXUwfUojUNzoL4 => {'cookieEnabled': True, 'userAgent': 'Mozilla/5.0 (Macintosh; Intel Mac OS X 10_13_6) AppleWebKit/537.36 (KHTML, like Gecko) Chrome/81.0.4044.138 Safari/537.36', 'href': 'https://try.ladder.io/?utm_expid=.OShV8i84QBebyz05Qhs27g.1&utm_referrer=#tn0kwtwq9z7y9a2ld75ut', 'colorDepth': 24, 'locale': 'en-US', 'height': 1080, 'property': 'lad-000000003-001', 'title': 'Award-Winning Marketing Agency: Growth, Scale, & ROI - Ladder', 'timeZone': 'Europe/London', 'doNotTrack': None, 'refHash': '#e0yxeeaf596p8p1tvskqr', 'width': 1920, 'timeZoneOffset': -60, 'userHash': 'tn0kwtwq9z7y9a2ld75ut', 'referrer': 'https://ladder.io/'}\n",
            "ntT1FCLVOCZoPxFRPYTB => {'locale': 'en-US', 'colorDepth': 24, 'property': 'lad-000000003-001', 'height': 900, 'title': 'Award-Winning Marketing Agency: Growth, Scale, & ROI - Ladder', 'timeZone': 'Europe/London', 'doNotTrack': None, 'refHash': '#e0yxeeaf596p8p1tvskqr', 'width': 1440, 'timeZoneOffset': -60, 'userHash': 'tn0kwtwq9z7y9a2ld75ut', 'referrer': 'https://ladder.io/', 'cookieEnabled': True, 'userAgent': 'Mozilla/5.0 (Macintosh; Intel Mac OS X 10_13_6) AppleWebKit/537.36 (KHTML, like Gecko) Chrome/81.0.4044.138 Safari/537.36', 'href': 'https://try.ladder.io/?utm_expid=.OShV8i84QBebyz05Qhs27g.1&utm_referrer=#tn0kwtwq9z7y9a2ld75ut'}\n",
            "s9EaI3WrhWj9qKqr1fyx => {'refHash': '#e0yxeeaf596p8p1tvskqr', 'width': 1440, 'timeZoneOffset': -60, 'userHash': 'tn0kwtwq9z7y9a2ld75ut', 'referrer': 'https://ladder.io/', 'cookieEnabled': True, 'userAgent': 'Mozilla/5.0 (Macintosh; Intel Mac OS X 10_13_6) AppleWebKit/537.36 (KHTML, like Gecko) Chrome/81.0.4044.138 Safari/537.36', 'href': 'https://try.ladder.io/?utm_expid=.OShV8i84QBebyz05Qhs27g.1&utm_referrer=https%3A%2F%2Fladder.io%2F#tn0kwtwq9z7y9a2ld75ut', 'colorDepth': 24, 'locale': 'en-US', 'property': 'lad-000000003-001', 'height': 900, 'title': 'Award-Winning Marketing Agency: Growth, Scale, & ROI - Ladder', 'timeZone': 'Europe/London', 'doNotTrack': None}\n",
            "vhVoCFeVTCdVh0pFToGL => {'locale': 'en-US', 'colorDepth': 24, 'height': 1080, 'property': 'lad-000000003-001', 'title': 'Award-Winning Marketing Agency: Growth, Scale, & ROI - Ladder', 'timeZone': 'Europe/London', 'doNotTrack': None, 'refHash': '#e0yxeeaf596p8p1tvskqr', 'width': 1920, 'timeZoneOffset': -60, 'userHash': 'tn0kwtwq9z7y9a2ld75ut', 'referrer': 'https://ladder.io/', 'cookieEnabled': True, 'userAgent': 'Mozilla/5.0 (Macintosh; Intel Mac OS X 10_13_6) AppleWebKit/537.36 (KHTML, like Gecko) Chrome/81.0.4044.138 Safari/537.36', 'href': 'https://try.ladder.io/?utm_expid=.OShV8i84QBebyz05Qhs27g.1&utm_referrer=#tn0kwtwq9z7y9a2ld75ut'}\n",
            "w7oOiHPQMsIpIZODE38o => {'href': 'https://ladder.io/playbook?_ga=2.114382151.133791084.1592618961-1230641959.1592618961#764lyb72e69mmo0a7bvimd', 'locale': 'en', 'colorDepth': 32, 'height': 1366, 'property': 'lad-000000003-001', 'title': 'Ladder.io - Playbook', 'timeZone': 'America/Denver', 'doNotTrack': '', 'refHash': '#e0yxeeaf596p8p1tvskqr', 'width': 1024, 'timeZoneOffset': 360, 'userHash': '764lyb72e69mmo0a7bvimd', 'referrer': 'https://blog.ladder.io/engineering-virality/?utm_source=Ladder+Newsletter&utm_campaign=c728c494f2-engineering-virality&utm_medium=email&utm_term=0_9d86f56367-c728c494f2-&utm_source=Ladder+Newsletter&utm_campaign=f4ffaa795b-engineering-virality&utm_medium=email&utm_term=0_9d86f56367-f4ffaa795b-535307255', 'cookieEnabled': True, 'userAgent': 'Mozilla/5.0 (Macintosh; Intel Mac OS X 10_15_4) AppleWebKit/605.1.15 (KHTML, like Gecko) Version/13.1.1 Safari/605.1.15'}\n",
            "w9jYzMBulmJxfo5wxZrO => {'doNotTrack': None, 'refHash': '#e0yxeeaf596p8p1tvskqr', 'width': 1440, 'timeZoneOffset': -60, 'userHash': 'e0yxeeaf596p8p1tvskqr', 'referrer': 'https://ladder.io/', 'cookieEnabled': True, 'userAgent': 'Mozilla/5.0 (Macintosh; Intel Mac OS X 10_13_6) AppleWebKit/537.36 (KHTML, like Gecko) Chrome/81.0.4044.138 Safari/537.36', 'href': 'https://ladder.io/#e0yxeeaf596p8p1tvskqr', 'colorDepth': 24, 'locale': 'en-US', 'height': 900, 'property': 'lad-000000003-001', 'title': 'Ladder.io - Growth without the guesswork.', 'timeZone': 'Europe/London'}\n",
            "wUFHXzBuJ8ay8DqyYGrG => {'colorDepth': 24, 'locale': 'en-US', 'property': 'lad-000000003-001', 'height': 900, 'title': 'Award-Winning Marketing Agency: Growth, Scale, & ROI - Ladder', 'timeZone': 'Europe/London', 'doNotTrack': None, 'refHash': '#e0yxeeaf596p8p1tvskqr', 'width': 1440, 'timeZoneOffset': -60, 'userHash': 'tn0kwtwq9z7y9a2ld75ut', 'referrer': 'https://ladder.io/', 'cookieEnabled': True, 'userAgent': 'Mozilla/5.0 (Macintosh; Intel Mac OS X 10_13_6) AppleWebKit/537.36 (KHTML, like Gecko) Chrome/83.0.4103.61 Safari/537.36', 'href': 'https://try.ladder.io/?utm_expid=.OShV8i84QBebyz05Qhs27g.1&utm_referrer=#tn0kwtwq9z7y9a2ld75ut'}\n",
            "zYz8EULNz8Mhiil1AXW7 => {'timeZoneOffset': -60, 'userHash': 'tn0kwtwq9z7y9a2ld75ut', 'referrer': 'https://ladder.io/', 'cookieEnabled': True, 'userAgent': 'Mozilla/5.0 (Macintosh; Intel Mac OS X 10_13_6) AppleWebKit/537.36 (KHTML, like Gecko) Chrome/81.0.4044.138 Safari/537.36', 'href': 'https://try.ladder.io/?utm_expid=.OShV8i84QBebyz05Qhs27g.1&utm_referrer=#tn0kwtwq9z7y9a2ld75ut', 'colorDepth': 24, 'locale': 'en-US', 'height': 900, 'property': 'lad-000000003-001', 'title': 'Award-Winning Marketing Agency: Growth, Scale, & ROI - Ladder', 'timeZone': 'Europe/London', 'doNotTrack': None, 'refHash': '#e0yxeeaf596p8p1tvskqr', 'width': 1440}\n",
            "26\n"
          ],
          "name": "stdout"
        }
      ]
    },
    {
      "cell_type": "code",
      "metadata": {
        "id": "iHDR3RTbfJPP",
        "colab_type": "code",
        "colab": {}
      },
      "source": [
        "import firebase_admin\n",
        "from firebase_admin import credentials\n",
        "from firebase_admin import firestore\n",
        "\n",
        "def parse_var(var, request):\n",
        "    request_json = request.get_json(silent=True)\n",
        "    request_args = request.args\n",
        "\n",
        "    if request_json and var in request_json:\n",
        "        return request_json[var]\n",
        "    elif request_args and var in request_args:\n",
        "        return request_args[var]\n",
        "    else:\n",
        "        return None\n",
        "\n",
        "def main(request):\n",
        "    \"\"\"\n",
        "    For testing input\n",
        "    {\"property\": \"lad-000000003-001\", \"refHash\": \"#e0yxeeaf596p8p1tvskqr\"}\n",
        "    \"\"\"\n",
        "    # Set CORS headers for the preflight request\n",
        "    if request.method == 'OPTIONS':\n",
        "        # Allows GET requests from any origin with the Content-Type\n",
        "        # header and caches preflight response for an 3600s\n",
        "        headers = {\n",
        "            'Access-Control-Allow-Origin': '*',\n",
        "            'Access-Control-Allow-Methods': 'POST',\n",
        "            'Access-Control-Allow-Headers': 'Content-Type',\n",
        "            'Access-Control-Max-Age': '3600'\n",
        "        }\n",
        "\n",
        "        return ('', 204, headers)\n",
        "\n",
        "    prop_id = parse_var(\"property\", request)\n",
        "    refHash = parse_var(\"refHash\", request)\n",
        "\n",
        "    firebase_admin.initialize_app()\n",
        "    db = firestore.client()\n",
        "\n",
        "    posts_ref = db.collection(u'posts')\n",
        "\n",
        "    query = posts_ref.where(\n",
        "        u'property', u'==', u'{}'.format(prop_id)).where(\n",
        "            u'refHash', u'==', u'{}'.format(refHash)).limit(100)\n",
        "\n",
        "    results = query.stream()\n",
        "    records = []\n",
        "    for doc in results:\n",
        "        records.append(doc.id)\n",
        "\n",
        "    share_count = len(records)\n",
        "\n",
        "    # Set CORS headers for the main request\n",
        "    headers = {\n",
        "        'Access-Control-Allow-Origin': '*'\n",
        "    }\n",
        "\n",
        "    # Return a 200 status\n",
        "    return (str(share_count), 200, headers)"
      ],
      "execution_count": 6,
      "outputs": []
    }
  ]
}